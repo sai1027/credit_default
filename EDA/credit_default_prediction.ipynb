{
 "cells": [
  {
   "cell_type": "code",
   "execution_count": 1,
   "metadata": {},
   "outputs": [],
   "source": [
    "import numpy as np\n",
    "import pandas as pd\n",
    "import matplotlib.pyplot as plt\n",
    "%matplotlib inline\n",
    "import seaborn as sns"
   ]
  },
  {
   "cell_type": "code",
   "execution_count": 46,
   "metadata": {},
   "outputs": [],
   "source": [
    "from sklearn.model_selection import train_test_split\n",
    "from sklearn.preprocessing import StandardScaler\n",
    "from sklearn.naive_bayes import GaussianNB\n",
    "from xgboost import XGBClassifier\n",
    "from sklearn.model_selection import GridSearchCV\n",
    "from sklearn.metrics import accuracy_score"
   ]
  },
  {
   "cell_type": "code",
   "execution_count": 4,
   "metadata": {},
   "outputs": [],
   "source": [
    "data=pd.read_excel(\"../dataset/clients.xls\")"
   ]
  },
  {
   "cell_type": "code",
   "execution_count": 5,
   "metadata": {},
   "outputs": [
    {
     "data": {
      "text/html": [
       "<div>\n",
       "<style scoped>\n",
       "    .dataframe tbody tr th:only-of-type {\n",
       "        vertical-align: middle;\n",
       "    }\n",
       "\n",
       "    .dataframe tbody tr th {\n",
       "        vertical-align: top;\n",
       "    }\n",
       "\n",
       "    .dataframe thead th {\n",
       "        text-align: right;\n",
       "    }\n",
       "</style>\n",
       "<table border=\"1\" class=\"dataframe\">\n",
       "  <thead>\n",
       "    <tr style=\"text-align: right;\">\n",
       "      <th></th>\n",
       "      <th>LIMIT_BAL</th>\n",
       "      <th>SEX</th>\n",
       "      <th>EDUCATION</th>\n",
       "      <th>MARRIAGE</th>\n",
       "      <th>AGE</th>\n",
       "      <th>PAY_0</th>\n",
       "      <th>PAY_2</th>\n",
       "      <th>PAY_3</th>\n",
       "      <th>PAY_4</th>\n",
       "      <th>PAY_5</th>\n",
       "      <th>...</th>\n",
       "      <th>BILL_AMT4</th>\n",
       "      <th>BILL_AMT5</th>\n",
       "      <th>BILL_AMT6</th>\n",
       "      <th>PAY_AMT1</th>\n",
       "      <th>PAY_AMT2</th>\n",
       "      <th>PAY_AMT3</th>\n",
       "      <th>PAY_AMT4</th>\n",
       "      <th>PAY_AMT5</th>\n",
       "      <th>PAY_AMT6</th>\n",
       "      <th>default payment next month</th>\n",
       "    </tr>\n",
       "  </thead>\n",
       "  <tbody>\n",
       "    <tr>\n",
       "      <th>0</th>\n",
       "      <td>20000</td>\n",
       "      <td>2</td>\n",
       "      <td>2</td>\n",
       "      <td>1</td>\n",
       "      <td>24</td>\n",
       "      <td>2</td>\n",
       "      <td>2</td>\n",
       "      <td>-1</td>\n",
       "      <td>-1</td>\n",
       "      <td>-2</td>\n",
       "      <td>...</td>\n",
       "      <td>0</td>\n",
       "      <td>0</td>\n",
       "      <td>0</td>\n",
       "      <td>0</td>\n",
       "      <td>689</td>\n",
       "      <td>0</td>\n",
       "      <td>0</td>\n",
       "      <td>0</td>\n",
       "      <td>0</td>\n",
       "      <td>1</td>\n",
       "    </tr>\n",
       "    <tr>\n",
       "      <th>1</th>\n",
       "      <td>120000</td>\n",
       "      <td>2</td>\n",
       "      <td>2</td>\n",
       "      <td>2</td>\n",
       "      <td>26</td>\n",
       "      <td>-1</td>\n",
       "      <td>2</td>\n",
       "      <td>0</td>\n",
       "      <td>0</td>\n",
       "      <td>0</td>\n",
       "      <td>...</td>\n",
       "      <td>3272</td>\n",
       "      <td>3455</td>\n",
       "      <td>3261</td>\n",
       "      <td>0</td>\n",
       "      <td>1000</td>\n",
       "      <td>1000</td>\n",
       "      <td>1000</td>\n",
       "      <td>0</td>\n",
       "      <td>2000</td>\n",
       "      <td>1</td>\n",
       "    </tr>\n",
       "    <tr>\n",
       "      <th>2</th>\n",
       "      <td>90000</td>\n",
       "      <td>2</td>\n",
       "      <td>2</td>\n",
       "      <td>2</td>\n",
       "      <td>34</td>\n",
       "      <td>0</td>\n",
       "      <td>0</td>\n",
       "      <td>0</td>\n",
       "      <td>0</td>\n",
       "      <td>0</td>\n",
       "      <td>...</td>\n",
       "      <td>14331</td>\n",
       "      <td>14948</td>\n",
       "      <td>15549</td>\n",
       "      <td>1518</td>\n",
       "      <td>1500</td>\n",
       "      <td>1000</td>\n",
       "      <td>1000</td>\n",
       "      <td>1000</td>\n",
       "      <td>5000</td>\n",
       "      <td>0</td>\n",
       "    </tr>\n",
       "    <tr>\n",
       "      <th>3</th>\n",
       "      <td>50000</td>\n",
       "      <td>2</td>\n",
       "      <td>2</td>\n",
       "      <td>1</td>\n",
       "      <td>37</td>\n",
       "      <td>0</td>\n",
       "      <td>0</td>\n",
       "      <td>0</td>\n",
       "      <td>0</td>\n",
       "      <td>0</td>\n",
       "      <td>...</td>\n",
       "      <td>28314</td>\n",
       "      <td>28959</td>\n",
       "      <td>29547</td>\n",
       "      <td>2000</td>\n",
       "      <td>2019</td>\n",
       "      <td>1200</td>\n",
       "      <td>1100</td>\n",
       "      <td>1069</td>\n",
       "      <td>1000</td>\n",
       "      <td>0</td>\n",
       "    </tr>\n",
       "    <tr>\n",
       "      <th>4</th>\n",
       "      <td>50000</td>\n",
       "      <td>1</td>\n",
       "      <td>2</td>\n",
       "      <td>1</td>\n",
       "      <td>57</td>\n",
       "      <td>-1</td>\n",
       "      <td>0</td>\n",
       "      <td>-1</td>\n",
       "      <td>0</td>\n",
       "      <td>0</td>\n",
       "      <td>...</td>\n",
       "      <td>20940</td>\n",
       "      <td>19146</td>\n",
       "      <td>19131</td>\n",
       "      <td>2000</td>\n",
       "      <td>36681</td>\n",
       "      <td>10000</td>\n",
       "      <td>9000</td>\n",
       "      <td>689</td>\n",
       "      <td>679</td>\n",
       "      <td>0</td>\n",
       "    </tr>\n",
       "  </tbody>\n",
       "</table>\n",
       "<p>5 rows × 24 columns</p>\n",
       "</div>"
      ],
      "text/plain": [
       "   LIMIT_BAL  SEX  EDUCATION  MARRIAGE  AGE  PAY_0  PAY_2  PAY_3  PAY_4  \\\n",
       "0      20000    2          2         1   24      2      2     -1     -1   \n",
       "1     120000    2          2         2   26     -1      2      0      0   \n",
       "2      90000    2          2         2   34      0      0      0      0   \n",
       "3      50000    2          2         1   37      0      0      0      0   \n",
       "4      50000    1          2         1   57     -1      0     -1      0   \n",
       "\n",
       "   PAY_5  ...  BILL_AMT4  BILL_AMT5  BILL_AMT6  PAY_AMT1  PAY_AMT2  PAY_AMT3  \\\n",
       "0     -2  ...          0          0          0         0       689         0   \n",
       "1      0  ...       3272       3455       3261         0      1000      1000   \n",
       "2      0  ...      14331      14948      15549      1518      1500      1000   \n",
       "3      0  ...      28314      28959      29547      2000      2019      1200   \n",
       "4      0  ...      20940      19146      19131      2000     36681     10000   \n",
       "\n",
       "   PAY_AMT4  PAY_AMT5  PAY_AMT6  default payment next month  \n",
       "0         0         0         0                           1  \n",
       "1      1000         0      2000                           1  \n",
       "2      1000      1000      5000                           0  \n",
       "3      1100      1069      1000                           0  \n",
       "4      9000       689       679                           0  \n",
       "\n",
       "[5 rows x 24 columns]"
      ]
     },
     "execution_count": 5,
     "metadata": {},
     "output_type": "execute_result"
    }
   ],
   "source": [
    "data.head()"
   ]
  },
  {
   "cell_type": "code",
   "execution_count": 6,
   "metadata": {},
   "outputs": [
    {
     "data": {
      "text/plain": [
       "(30000, 24)"
      ]
     },
     "execution_count": 6,
     "metadata": {},
     "output_type": "execute_result"
    }
   ],
   "source": [
    "data.shape"
   ]
  },
  {
   "cell_type": "code",
   "execution_count": 8,
   "metadata": {},
   "outputs": [
    {
     "data": {
      "text/plain": [
       "LIMIT_BAL                     0\n",
       "SEX                           0\n",
       "EDUCATION                     0\n",
       "MARRIAGE                      0\n",
       "AGE                           0\n",
       "PAY_0                         0\n",
       "PAY_2                         0\n",
       "PAY_3                         0\n",
       "PAY_4                         0\n",
       "PAY_5                         0\n",
       "PAY_6                         0\n",
       "BILL_AMT1                     0\n",
       "BILL_AMT2                     0\n",
       "BILL_AMT3                     0\n",
       "BILL_AMT4                     0\n",
       "BILL_AMT5                     0\n",
       "BILL_AMT6                     0\n",
       "PAY_AMT1                      0\n",
       "PAY_AMT2                      0\n",
       "PAY_AMT3                      0\n",
       "PAY_AMT4                      0\n",
       "PAY_AMT5                      0\n",
       "PAY_AMT6                      0\n",
       "default payment next month    0\n",
       "dtype: int64"
      ]
     },
     "execution_count": 8,
     "metadata": {},
     "output_type": "execute_result"
    }
   ],
   "source": [
    "data.isna().sum()"
   ]
  },
  {
   "cell_type": "code",
   "execution_count": 9,
   "metadata": {},
   "outputs": [
    {
     "name": "stdout",
     "output_type": "stream",
     "text": [
      "<class 'pandas.core.frame.DataFrame'>\n",
      "RangeIndex: 30000 entries, 0 to 29999\n",
      "Data columns (total 24 columns):\n",
      " #   Column                      Non-Null Count  Dtype\n",
      "---  ------                      --------------  -----\n",
      " 0   LIMIT_BAL                   30000 non-null  int64\n",
      " 1   SEX                         30000 non-null  int64\n",
      " 2   EDUCATION                   30000 non-null  int64\n",
      " 3   MARRIAGE                    30000 non-null  int64\n",
      " 4   AGE                         30000 non-null  int64\n",
      " 5   PAY_0                       30000 non-null  int64\n",
      " 6   PAY_2                       30000 non-null  int64\n",
      " 7   PAY_3                       30000 non-null  int64\n",
      " 8   PAY_4                       30000 non-null  int64\n",
      " 9   PAY_5                       30000 non-null  int64\n",
      " 10  PAY_6                       30000 non-null  int64\n",
      " 11  BILL_AMT1                   30000 non-null  int64\n",
      " 12  BILL_AMT2                   30000 non-null  int64\n",
      " 13  BILL_AMT3                   30000 non-null  int64\n",
      " 14  BILL_AMT4                   30000 non-null  int64\n",
      " 15  BILL_AMT5                   30000 non-null  int64\n",
      " 16  BILL_AMT6                   30000 non-null  int64\n",
      " 17  PAY_AMT1                    30000 non-null  int64\n",
      " 18  PAY_AMT2                    30000 non-null  int64\n",
      " 19  PAY_AMT3                    30000 non-null  int64\n",
      " 20  PAY_AMT4                    30000 non-null  int64\n",
      " 21  PAY_AMT5                    30000 non-null  int64\n",
      " 22  PAY_AMT6                    30000 non-null  int64\n",
      " 23  default payment next month  30000 non-null  int64\n",
      "dtypes: int64(24)\n",
      "memory usage: 5.5 MB\n"
     ]
    }
   ],
   "source": [
    "data.info()"
   ]
  },
  {
   "cell_type": "code",
   "execution_count": 11,
   "metadata": {},
   "outputs": [
    {
     "data": {
      "text/plain": [
       "<AxesSubplot:>"
      ]
     },
     "execution_count": 11,
     "metadata": {},
     "output_type": "execute_result"
    },
    {
     "data": {
      "image/png": "[encoded data removed]",
      "text/plain": [
       "<Figure size 640x480 with 2 Axes>"
      ]
     },
     "metadata": {},
     "output_type": "display_data"
    }
   ],
   "source": [
    "sns.heatmap(data.corr())"
   ]
  },
  {
   "cell_type": "code",
   "execution_count": 23,
   "metadata": {},
   "outputs": [],
   "source": [
    "x=data.drop('default payment next month',axis=1)\n",
    "y=data['default payment next month']"
   ]
  },
  {
   "cell_type": "code",
   "execution_count": 25,
   "metadata": {},
   "outputs": [],
   "source": [
    "x_train,x_test,y_train,y_test = train_test_split(x,y,test_size=0.33, random_state=42)"
   ]
  },
  {
   "cell_type": "code",
   "execution_count": 27,
   "metadata": {},
   "outputs": [],
   "source": [
    "train_scaler=StandardScaler()\n",
    "test_scaler=StandardScaler()"
   ]
  },
  {
   "cell_type": "code",
   "execution_count": 28,
   "metadata": {},
   "outputs": [],
   "source": [
    "scaled_train_data=train_scaler.fit_transform(x_train)\n",
    "scaled_test_data=test_scaler.fit_transform(x_test)"
   ]
  },
  {
   "cell_type": "code",
   "execution_count": 29,
   "metadata": {},
   "outputs": [],
   "source": [
    "scaled_train_df=pd.DataFrame(data=scaled_train_data, columns=x_train.columns, index=x_train.index)"
   ]
  },
  {
   "cell_type": "code",
   "execution_count": 30,
   "metadata": {},
   "outputs": [],
   "source": [
    "scaled_test_df=pd.DataFrame(data=scaled_test_data, columns=x_test.columns, index=x_test.index)"
   ]
  },
  {
   "cell_type": "code",
   "execution_count": 31,
   "metadata": {},
   "outputs": [
    {
     "data": {
      "text/html": [
       "<div>\n",
       "<style scoped>\n",
       "    .dataframe tbody tr th:only-of-type {\n",
       "        vertical-align: middle;\n",
       "    }\n",
       "\n",
       "    .dataframe tbody tr th {\n",
       "        vertical-align: top;\n",
       "    }\n",
       "\n",
       "    .dataframe thead th {\n",
       "        text-align: right;\n",
       "    }\n",
       "</style>\n",
       "<table border=\"1\" class=\"dataframe\">\n",
       "  <thead>\n",
       "    <tr style=\"text-align: right;\">\n",
       "      <th></th>\n",
       "      <th>LIMIT_BAL</th>\n",
       "      <th>SEX</th>\n",
       "      <th>EDUCATION</th>\n",
       "      <th>MARRIAGE</th>\n",
       "      <th>AGE</th>\n",
       "      <th>PAY_0</th>\n",
       "      <th>PAY_2</th>\n",
       "      <th>PAY_3</th>\n",
       "      <th>PAY_4</th>\n",
       "      <th>PAY_5</th>\n",
       "      <th>...</th>\n",
       "      <th>BILL_AMT3</th>\n",
       "      <th>BILL_AMT4</th>\n",
       "      <th>BILL_AMT5</th>\n",
       "      <th>BILL_AMT6</th>\n",
       "      <th>PAY_AMT1</th>\n",
       "      <th>PAY_AMT2</th>\n",
       "      <th>PAY_AMT3</th>\n",
       "      <th>PAY_AMT4</th>\n",
       "      <th>PAY_AMT5</th>\n",
       "      <th>PAY_AMT6</th>\n",
       "    </tr>\n",
       "  </thead>\n",
       "  <tbody>\n",
       "    <tr>\n",
       "      <th>16831</th>\n",
       "      <td>-0.365093</td>\n",
       "      <td>-1.238563</td>\n",
       "      <td>1.448725</td>\n",
       "      <td>-1.054777</td>\n",
       "      <td>1.464785</td>\n",
       "      <td>0.015441</td>\n",
       "      <td>-0.724837</td>\n",
       "      <td>-0.697423</td>\n",
       "      <td>-0.668007</td>\n",
       "      <td>-0.647249</td>\n",
       "      <td>...</td>\n",
       "      <td>-0.642576</td>\n",
       "      <td>-0.661257</td>\n",
       "      <td>-0.529514</td>\n",
       "      <td>-0.579208</td>\n",
       "      <td>-0.105018</td>\n",
       "      <td>-0.145558</td>\n",
       "      <td>-0.242409</td>\n",
       "      <td>0.201062</td>\n",
       "      <td>-0.014852</td>\n",
       "      <td>-0.233621</td>\n",
       "    </tr>\n",
       "    <tr>\n",
       "      <th>4222</th>\n",
       "      <td>-1.061279</td>\n",
       "      <td>-1.238563</td>\n",
       "      <td>-1.073197</td>\n",
       "      <td>0.861786</td>\n",
       "      <td>0.271955</td>\n",
       "      <td>1.794063</td>\n",
       "      <td>0.110028</td>\n",
       "      <td>0.141588</td>\n",
       "      <td>0.189890</td>\n",
       "      <td>0.238910</td>\n",
       "      <td>...</td>\n",
       "      <td>0.228168</td>\n",
       "      <td>0.224623</td>\n",
       "      <td>0.099678</td>\n",
       "      <td>0.583327</td>\n",
       "      <td>-0.095828</td>\n",
       "      <td>-0.039170</td>\n",
       "      <td>0.152840</td>\n",
       "      <td>-0.212528</td>\n",
       "      <td>2.237818</td>\n",
       "      <td>0.268573</td>\n",
       "    </tr>\n",
       "    <tr>\n",
       "      <th>8736</th>\n",
       "      <td>-0.597155</td>\n",
       "      <td>0.807387</td>\n",
       "      <td>0.187764</td>\n",
       "      <td>0.861786</td>\n",
       "      <td>0.380394</td>\n",
       "      <td>0.015441</td>\n",
       "      <td>0.110028</td>\n",
       "      <td>0.141588</td>\n",
       "      <td>0.189890</td>\n",
       "      <td>0.238910</td>\n",
       "      <td>...</td>\n",
       "      <td>-0.067356</td>\n",
       "      <td>-0.081444</td>\n",
       "      <td>-0.154738</td>\n",
       "      <td>-0.181984</td>\n",
       "      <td>-0.213650</td>\n",
       "      <td>-0.157335</td>\n",
       "      <td>-0.219417</td>\n",
       "      <td>-0.239691</td>\n",
       "      <td>-0.231210</td>\n",
       "      <td>-0.254511</td>\n",
       "    </tr>\n",
       "    <tr>\n",
       "      <th>27880</th>\n",
       "      <td>-0.287739</td>\n",
       "      <td>0.807387</td>\n",
       "      <td>1.448725</td>\n",
       "      <td>-1.054777</td>\n",
       "      <td>-1.029313</td>\n",
       "      <td>0.015441</td>\n",
       "      <td>0.110028</td>\n",
       "      <td>1.819611</td>\n",
       "      <td>1.905684</td>\n",
       "      <td>2.011229</td>\n",
       "      <td>...</td>\n",
       "      <td>1.169781</td>\n",
       "      <td>1.409281</td>\n",
       "      <td>1.438216</td>\n",
       "      <td>1.562072</td>\n",
       "      <td>0.316551</td>\n",
       "      <td>-0.133702</td>\n",
       "      <td>0.207584</td>\n",
       "      <td>-0.302252</td>\n",
       "      <td>0.074237</td>\n",
       "      <td>-0.012958</td>\n",
       "    </tr>\n",
       "    <tr>\n",
       "      <th>29290</th>\n",
       "      <td>-0.906571</td>\n",
       "      <td>-1.238563</td>\n",
       "      <td>1.448725</td>\n",
       "      <td>0.861786</td>\n",
       "      <td>-1.029313</td>\n",
       "      <td>1.794063</td>\n",
       "      <td>0.110028</td>\n",
       "      <td>0.141588</td>\n",
       "      <td>0.189890</td>\n",
       "      <td>0.238910</td>\n",
       "      <td>...</td>\n",
       "      <td>-0.068136</td>\n",
       "      <td>-0.166675</td>\n",
       "      <td>-0.389455</td>\n",
       "      <td>-0.369159</td>\n",
       "      <td>-0.210882</td>\n",
       "      <td>-0.010496</td>\n",
       "      <td>-0.213942</td>\n",
       "      <td>-0.228875</td>\n",
       "      <td>-0.268309</td>\n",
       "      <td>-0.257889</td>\n",
       "    </tr>\n",
       "  </tbody>\n",
       "</table>\n",
       "<p>5 rows × 23 columns</p>\n",
       "</div>"
      ],
      "text/plain": [
       "       LIMIT_BAL       SEX  EDUCATION  MARRIAGE       AGE     PAY_0     PAY_2  \\\n",
       "16831  -0.365093 -1.238563   1.448725 -1.054777  1.464785  0.015441 -0.724837   \n",
       "4222   -1.061279 -1.238563  -1.073197  0.861786  0.271955  1.794063  0.110028   \n",
       "8736   -0.597155  0.807387   0.187764  0.861786  0.380394  0.015441  0.110028   \n",
       "27880  -0.287739  0.807387   1.448725 -1.054777 -1.029313  0.015441  0.110028   \n",
       "29290  -0.906571 -1.238563   1.448725  0.861786 -1.029313  1.794063  0.110028   \n",
       "\n",
       "          PAY_3     PAY_4     PAY_5  ...  BILL_AMT3  BILL_AMT4  BILL_AMT5  \\\n",
       "16831 -0.697423 -0.668007 -0.647249  ...  -0.642576  -0.661257  -0.529514   \n",
       "4222   0.141588  0.189890  0.238910  ...   0.228168   0.224623   0.099678   \n",
       "8736   0.141588  0.189890  0.238910  ...  -0.067356  -0.081444  -0.154738   \n",
       "27880  1.819611  1.905684  2.011229  ...   1.169781   1.409281   1.438216   \n",
       "29290  0.141588  0.189890  0.238910  ...  -0.068136  -0.166675  -0.389455   \n",
       "\n",
       "       BILL_AMT6  PAY_AMT1  PAY_AMT2  PAY_AMT3  PAY_AMT4  PAY_AMT5  PAY_AMT6  \n",
       "16831  -0.579208 -0.105018 -0.145558 -0.242409  0.201062 -0.014852 -0.233621  \n",
       "4222    0.583327 -0.095828 -0.039170  0.152840 -0.212528  2.237818  0.268573  \n",
       "8736   -0.181984 -0.213650 -0.157335 -0.219417 -0.239691 -0.231210 -0.254511  \n",
       "27880   1.562072  0.316551 -0.133702  0.207584 -0.302252  0.074237 -0.012958  \n",
       "29290  -0.369159 -0.210882 -0.010496 -0.213942 -0.228875 -0.268309 -0.257889  \n",
       "\n",
       "[5 rows x 23 columns]"
      ]
     },
     "execution_count": 31,
     "metadata": {},
     "output_type": "execute_result"
    }
   ],
   "source": [
    "scaled_train_df.head()"
   ]
  },
  {
   "cell_type": "code",
   "execution_count": 35,
   "metadata": {},
   "outputs": [],
   "source": [
    "gnb=GaussianNB()\n",
    "pred_y=gnb.fit(scaled_train_df,y_train).predict(scaled_test_df)"
   ]
  },
  {
   "cell_type": "code",
   "execution_count": 36,
   "metadata": {},
   "outputs": [
    {
     "data": {
      "text/plain": [
       "0.6603030303030303"
      ]
     },
     "execution_count": 36,
     "metadata": {},
     "output_type": "execute_result"
    }
   ],
   "source": [
    "ac=accuracy_score(y_test, pred_y)\n",
    "ac"
   ]
  },
  {
   "cell_type": "code",
   "execution_count": 37,
   "metadata": {},
   "outputs": [],
   "source": [
    "param_grid = {\"var_smoothing\": [1e-9,0.1, 0.001, 0.5,0.05,0.01,1e-8,1e-7,1e-6,1e-10,1e-11]}\n",
    "\n",
    "grid = GridSearchCV(estimator=gnb, param_grid=param_grid, cv=5,  verbose=3)"
   ]
  },
  {
   "cell_type": "code",
   "execution_count": 38,
   "metadata": {},
   "outputs": [
    {
     "name": "stdout",
     "output_type": "stream",
     "text": [
      "Fitting 5 folds for each of 11 candidates, totalling 55 fits\n",
      "[CV 1/5] END ...............var_smoothing=1e-09;, score=0.580 total time=   0.0s\n",
      "[CV 2/5] END ...............var_smoothing=1e-09;, score=0.665 total time=   0.0s\n",
      "[CV 3/5] END ...............var_smoothing=1e-09;, score=0.714 total time=   0.0s\n",
      "[CV 4/5] END ...............var_smoothing=1e-09;, score=0.646 total time=   0.0s\n",
      "[CV 5/5] END ...............var_smoothing=1e-09;, score=0.689 total time=   0.0s\n",
      "[CV 1/5] END .................var_smoothing=0.1;, score=0.665 total time=   0.0s\n",
      "[CV 2/5] END .................var_smoothing=0.1;, score=0.743 total time=   0.0s\n",
      "[CV 3/5] END .................var_smoothing=0.1;, score=0.769 total time=   0.0s\n",
      "[CV 4/5] END .................var_smoothing=0.1;, score=0.740 total time=   0.0s\n",
      "[CV 5/5] END .................var_smoothing=0.1;, score=0.754 total time=   0.0s\n",
      "[CV 1/5] END ...............var_smoothing=0.001;, score=0.581 total time=   0.0s\n",
      "[CV 2/5] END ...............var_smoothing=0.001;, score=0.666 total time=   0.0s\n",
      "[CV 3/5] END ...............var_smoothing=0.001;, score=0.716 total time=   0.0s\n",
      "[CV 4/5] END ...............var_smoothing=0.001;, score=0.647 total time=   0.0s\n",
      "[CV 5/5] END ...............var_smoothing=0.001;, score=0.691 total time=   0.0s\n",
      "[CV 1/5] END .................var_smoothing=0.5;, score=0.783 total time=   0.0s\n",
      "[CV 2/5] END .................var_smoothing=0.5;, score=0.784 total time=   0.0s\n",
      "[CV 3/5] END .................var_smoothing=0.5;, score=0.794 total time=   0.0s\n",
      "[CV 4/5] END .................var_smoothing=0.5;, score=0.783 total time=   0.0s\n",
      "[CV 5/5] END .................var_smoothing=0.5;, score=0.781 total time=   0.0s\n",
      "[CV 1/5] END ................var_smoothing=0.05;, score=0.623 total time=   0.0s\n",
      "[CV 2/5] END ................var_smoothing=0.05;, score=0.711 total time=   0.0s\n",
      "[CV 3/5] END ................var_smoothing=0.05;, score=0.746 total time=   0.0s\n",
      "[CV 4/5] END ................var_smoothing=0.05;, score=0.702 total time=   0.0s\n",
      "[CV 5/5] END ................var_smoothing=0.05;, score=0.733 total time=   0.0s\n",
      "[CV 1/5] END ................var_smoothing=0.01;, score=0.586 total time=   0.0s\n",
      "[CV 2/5] END ................var_smoothing=0.01;, score=0.671 total time=   0.0s\n",
      "[CV 3/5] END ................var_smoothing=0.01;, score=0.723 total time=   0.0s\n",
      "[CV 4/5] END ................var_smoothing=0.01;, score=0.656 total time=   0.0s\n",
      "[CV 5/5] END ................var_smoothing=0.01;, score=0.698 total time=   0.0s\n",
      "[CV 1/5] END ...............var_smoothing=1e-08;, score=0.580 total time=   0.0s\n",
      "[CV 2/5] END ...............var_smoothing=1e-08;, score=0.665 total time=   0.0s\n",
      "[CV 3/5] END ...............var_smoothing=1e-08;, score=0.714 total time=   0.0s\n",
      "[CV 4/5] END ...............var_smoothing=1e-08;, score=0.646 total time=   0.0s\n",
      "[CV 5/5] END ...............var_smoothing=1e-08;, score=0.689 total time=   0.0s\n",
      "[CV 1/5] END ...............var_smoothing=1e-07;, score=0.580 total time=   0.0s\n",
      "[CV 2/5] END ...............var_smoothing=1e-07;, score=0.665 total time=   0.0s\n",
      "[CV 3/5] END ...............var_smoothing=1e-07;, score=0.714 total time=   0.0s\n",
      "[CV 4/5] END ...............var_smoothing=1e-07;, score=0.646 total time=   0.0s\n",
      "[CV 5/5] END ...............var_smoothing=1e-07;, score=0.689 total time=   0.0s\n",
      "[CV 1/5] END ...............var_smoothing=1e-06;, score=0.580 total time=   0.0s\n",
      "[CV 2/5] END ...............var_smoothing=1e-06;, score=0.665 total time=   0.0s\n",
      "[CV 3/5] END ...............var_smoothing=1e-06;, score=0.714 total time=   0.0s\n",
      "[CV 4/5] END ...............var_smoothing=1e-06;, score=0.646 total time=   0.0s\n",
      "[CV 5/5] END ...............var_smoothing=1e-06;, score=0.689 total time=   0.0s\n",
      "[CV 1/5] END ...............var_smoothing=1e-10;, score=0.580 total time=   0.0s\n",
      "[CV 2/5] END ...............var_smoothing=1e-10;, score=0.665 total time=   0.0s\n",
      "[CV 3/5] END ...............var_smoothing=1e-10;, score=0.714 total time=   0.0s\n",
      "[CV 4/5] END ...............var_smoothing=1e-10;, score=0.646 total time=   0.0s\n",
      "[CV 5/5] END ...............var_smoothing=1e-10;, score=0.689 total time=   0.0s\n",
      "[CV 1/5] END ...............var_smoothing=1e-11;, score=0.580 total time=   0.0s\n",
      "[CV 2/5] END ...............var_smoothing=1e-11;, score=0.665 total time=   0.0s\n",
      "[CV 3/5] END ...............var_smoothing=1e-11;, score=0.714 total time=   0.0s\n",
      "[CV 4/5] END ...............var_smoothing=1e-11;, score=0.646 total time=   0.0s\n",
      "[CV 5/5] END ...............var_smoothing=1e-11;, score=0.689 total time=   0.0s\n"
     ]
    },
    {
     "data": {
      "text/plain": [
       "GridSearchCV(cv=5, estimator=GaussianNB(),\n",
       "             param_grid={'var_smoothing': [1e-09, 0.1, 0.001, 0.5, 0.05, 0.01,\n",
       "                                           1e-08, 1e-07, 1e-06, 1e-10, 1e-11]},\n",
       "             verbose=3)"
      ]
     },
     "execution_count": 38,
     "metadata": {},
     "output_type": "execute_result"
    }
   ],
   "source": [
    "grid.fit(scaled_train_data, y_train)"
   ]
  },
  {
   "cell_type": "code",
   "execution_count": 39,
   "metadata": {},
   "outputs": [
    {
     "data": {
      "text/plain": [
       "GaussianNB(var_smoothing=0.5)"
      ]
     },
     "execution_count": 39,
     "metadata": {},
     "output_type": "execute_result"
    }
   ],
   "source": [
    "grid.best_estimator_"
   ]
  },
  {
   "cell_type": "code",
   "execution_count": 40,
   "metadata": {},
   "outputs": [],
   "source": [
    "gnb_new=GaussianNB(var_smoothing=0.5)\n",
    "pred_y_new=gnb_new.fit(scaled_train_df,y_train).predict(scaled_test_df)"
   ]
  },
  {
   "cell_type": "code",
   "execution_count": 41,
   "metadata": {},
   "outputs": [
    {
     "data": {
      "text/plain": [
       "0.7798989898989899"
      ]
     },
     "execution_count": 41,
     "metadata": {},
     "output_type": "execute_result"
    }
   ],
   "source": [
    "ac_new=accuracy_score(y_test,pred_y_new)\n",
    "ac_new"
   ]
  },
  {
   "cell_type": "code",
   "execution_count": 49,
   "metadata": {},
   "outputs": [],
   "source": [
    "param_grid_xgboost = {\"n_estimators\": [50,100, 130], \"max_depth\": range(3, 11, 1),\"random_state\":[0,50,100]}\n",
    "\n",
    "\n",
    "grid= GridSearchCV(XGBClassifier(objective='binary:logistic'),param_grid_xgboost, verbose=3,cv=5,n_jobs=-1)"
   ]
  },
  {
   "cell_type": "code",
   "execution_count": 50,
   "metadata": {},
   "outputs": [
    {
     "name": "stdout",
     "output_type": "stream",
     "text": [
      "Fitting 5 folds for each of 72 candidates, totalling 360 fits\n"
     ]
    },
    {
     "data": {
      "text/plain": [
       "GridSearchCV(cv=5,\n",
       "             estimator=XGBClassifier(base_score=None, booster=None,\n",
       "                                     callbacks=None, colsample_bylevel=None,\n",
       "                                     colsample_bynode=None,\n",
       "                                     colsample_bytree=None,\n",
       "                                     early_stopping_rounds=None,\n",
       "                                     enable_categorical=False, eval_metric=None,\n",
       "                                     feature_types=None, gamma=None,\n",
       "                                     gpu_id=None, grow_policy=None,\n",
       "                                     importance_type=None,\n",
       "                                     interaction_constraints=None,\n",
       "                                     learning_rate=None,...\n",
       "                                     max_cat_threshold=None,\n",
       "                                     max_cat_to_onehot=None,\n",
       "                                     max_delta_step=None, max_depth=None,\n",
       "                                     max_leaves=None, min_child_weight=None,\n",
       "                                     missing=nan, monotone_constraints=None,\n",
       "                                     n_estimators=100, n_jobs=None,\n",
       "                                     num_parallel_tree=None, predictor=None,\n",
       "                                     random_state=None, ...),\n",
       "             n_jobs=-1,\n",
       "             param_grid={'max_depth': range(3, 11),\n",
       "                         'n_estimators': [50, 100, 130],\n",
       "                         'random_state': [0, 50, 100]},\n",
       "             verbose=3)"
      ]
     },
     "execution_count": 50,
     "metadata": {},
     "output_type": "execute_result"
    }
   ],
   "source": [
    "grid.fit(scaled_train_df,y_train)"
   ]
  },
  {
   "cell_type": "code",
   "execution_count": 60,
   "metadata": {},
   "outputs": [],
   "source": [
    "xgb_new=grid.best_estimator_"
   ]
  },
  {
   "cell_type": "code",
   "execution_count": null,
   "metadata": {},
   "outputs": [],
   "source": []
  },
  {
   "cell_type": "code",
   "execution_count": 61,
   "metadata": {},
   "outputs": [],
   "source": [
    "pred_y_xgb_new=xgb_new.fit(scaled_train_df,y_train).predict(scaled_test_df)"
   ]
  },
  {
   "cell_type": "code",
   "execution_count": 62,
   "metadata": {},
   "outputs": [],
   "source": [
    "ac_xgb=accuracy_score(y_test,pred_y_xgb_new)"
   ]
  },
  {
   "cell_type": "code",
   "execution_count": 63,
   "metadata": {},
   "outputs": [
    {
     "data": {
      "text/plain": [
       "0.821010101010101"
      ]
     },
     "execution_count": 63,
     "metadata": {},
     "output_type": "execute_result"
    }
   ],
   "source": [
    "ac_xgb"
   ]
  }
 ],
 "metadata": {
  "kernelspec": {
   "display_name": "Python 3 (ipykernel)",
   "language": "python",
   "name": "python3"
  },
  "language_info": {
   "codemirror_mode": {
    "name": "ipython",
    "version": 3
   },
   "file_extension": ".py",
   "mimetype": "text/x-python",
   "name": "python",
   "nbconvert_exporter": "python",
   "pygments_lexer": "ipython3",
   "version": "3.9.13"
  }
 },
 "nbformat": 4,
 "nbformat_minor": 2
}
